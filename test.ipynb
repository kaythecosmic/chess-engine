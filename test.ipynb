{
 "cells": [
  {
   "cell_type": "code",
   "execution_count": 5,
   "metadata": {},
   "outputs": [
    {
     "name": "stdout",
     "output_type": "stream",
     "text": [
      "capture\n",
      "castle\n",
      "game-end\n",
      "game-start\n",
      "move-check\n",
      "move-self\n"
     ]
    }
   ],
   "source": [
    "# import OS module\n",
    "import os\n",
    "\n",
    "# Get the list of all files and directories\n",
    "path = \"assets/sounds\"\n",
    "dir_list = os.listdir(path)\n",
    "\n",
    "for file in dir_list:\n",
    "    filename =  file.split('.')\n",
    "    print(filename[0])\n",
    "\n",
    "# print(\"Files and directories in '\", path, \"' :\")\n",
    "\n",
    "# # prints all files\n",
    "# print(dir_list)"
   ]
  }
 ],
 "metadata": {
  "kernelspec": {
   "display_name": "Python 3.10.8 64-bit",
   "language": "python",
   "name": "python3"
  },
  "language_info": {
   "codemirror_mode": {
    "name": "ipython",
    "version": 3
   },
   "file_extension": ".py",
   "mimetype": "text/x-python",
   "name": "python",
   "nbconvert_exporter": "python",
   "pygments_lexer": "ipython3",
   "version": "3.10.8"
  },
  "orig_nbformat": 4,
  "vscode": {
   "interpreter": {
    "hash": "d8f522fdcbce347e6597bdb4aa1ccaefc67ecc129fc9374262d86a6a2b486a75"
   }
  }
 },
 "nbformat": 4,
 "nbformat_minor": 2
}
